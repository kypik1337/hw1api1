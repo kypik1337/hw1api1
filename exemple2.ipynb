{
 "cells": [
  {
   "cell_type": "code",
   "execution_count": 249,
   "metadata": {},
   "outputs": [],
   "source": [
    "import requests\n",
    "import json\n",
    "import pandas"
   ]
  },
  {
   "cell_type": "code",
   "execution_count": 250,
   "metadata": {},
   "outputs": [],
   "source": [
    "# Ваши учетные данные API\n",
    "client_id = \"__\"\n",
    "client_secret = \"__\"\n",
    "\n",
    "# Конечная точка API\n",
    "endpoint = \"https://api.foursquare.com/v3/places/search\""
   ]
  },
  {
   "cell_type": "code",
   "execution_count": 251,
   "metadata": {},
   "outputs": [],
   "source": [
    "city = input('Введите название города: ')\n",
    "place = input('Введите тип заведения: ')\n",
    "params = {\n",
    "    'client_id': client_id,\n",
    "    'client_secret': client_id,\n",
    "    'near': city,\n",
    "    'query': place\n",
    "}"
   ]
  },
  {
   "cell_type": "code",
   "execution_count": 252,
   "metadata": {},
   "outputs": [],
   "source": [
    "headers = {\n",
    "\"Accept\": \"application/json\",\n",
    "\"Authorization\": \"fsq3V3AFHzvqod5PVkb9j5ptfec29VfLTGG2XbHrQEGC8bI=\"\n",
    "}"
   ]
  },
  {
   "cell_type": "code",
   "execution_count": 253,
   "metadata": {},
   "outputs": [
    {
     "name": "stdout",
     "output_type": "stream",
     "text": [
      "Успешный запрос\n",
      "Название: News Café\n",
      "Адрес: ул. Карла Маркса, 34\n",
      "\n",
      "\n",
      "Название: Café de Paris\n",
      "Адрес: ул. Карла Маркса, 8\n",
      "\n",
      "\n",
      "Название: Пункт Питания\n",
      "Адрес: Богдановича 8\n",
      "\n",
      "\n",
      "Название: Тьерри\n",
      "Адрес: Ленина 16\n",
      "\n",
      "\n",
      "Название: Grand Café\n",
      "Адрес: ул. Ленина, 2\n",
      "\n",
      "\n",
      "Название: #тепло\n",
      "Адрес: ТЦ «Эспланада»\n",
      "\n",
      "\n",
      "Название: Гамарджоба — Грузинская Закусочная\n",
      "Адрес: Веры Хоружей 3\n",
      "\n",
      "\n",
      "Название: Легендар\n",
      "Адрес: Революционная 14\n",
      "\n",
      "\n",
      "Название: Имбирь\n",
      "Адрес: ул. Притыцкого, 2а\n",
      "\n",
      "\n",
      "Название: Let it be\n",
      "Адрес: Октябрьская улица, 23А\n",
      "\n",
      "\n"
     ]
    }
   ],
   "source": [
    "response = requests.get(endpoint, params=params, headers=headers)\n",
    "#df = pandas.DataFrame()\n",
    "list = []\n",
    "if response.status_code == 200:\n",
    "    print('Успешный запрос')\n",
    "    data = json.loads(response.text)\n",
    "    venues = data['results']\n",
    "    for venue in venues:\n",
    "        print(\"Название:\", venue[\"name\"])\n",
    "        try:\n",
    "            address = venue[\"location\"][\"address\"]\n",
    "        except KeyError:\n",
    "            address = 'Адрес не указан'\n",
    "        print(\"Адрес:\", address)\n",
    "        print(\"\\n\")\n",
    "        #df = df.append({'Название': venue[\"name\"], 'Адрес': address}, ignore_index=True)\n",
    "        list.append({'Название': venue[\"name\"], 'Адрес': address })\n",
    "else:\n",
    "    print('Запрос не удался', response.status_code)\n"
   ]
  },
  {
   "cell_type": "code",
   "execution_count": 254,
   "metadata": {},
   "outputs": [
    {
     "name": "stdout",
     "output_type": "stream",
     "text": [
      "весь список кафейнь\n",
      "[{'Название': 'News Café', 'Адрес': 'ул. Карла Маркса, 34'}, {'Название': 'Café de Paris', 'Адрес': 'ул. Карла Маркса, 8'}, {'Название': 'Пункт Питания', 'Адрес': 'Богдановича 8'}, {'Название': 'Тьерри', 'Адрес': 'Ленина 16'}, {'Название': 'Grand Café', 'Адрес': 'ул. Ленина, 2'}, {'Название': '#тепло', 'Адрес': 'ТЦ «Эспланада»'}, {'Название': 'Гамарджоба — Грузинская Закусочная', 'Адрес': 'Веры Хоружей 3'}, {'Название': 'Легендар', 'Адрес': 'Революционная 14'}, {'Название': 'Имбирь', 'Адрес': 'ул. Притыцкого, 2а'}, {'Название': 'Let it be', 'Адрес': 'Октябрьская улица, 23А'}]\n"
     ]
    }
   ],
   "source": [
    "print('весь список кафейнь')\n",
    "print(list)"
   ]
  }
 ],
 "metadata": {
  "kernelspec": {
   "display_name": "base",
   "language": "python",
   "name": "python3"
  },
  "language_info": {
   "codemirror_mode": {
    "name": "ipython",
    "version": 3
   },
   "file_extension": ".py",
   "mimetype": "text/x-python",
   "name": "python",
   "nbconvert_exporter": "python",
   "pygments_lexer": "ipython3",
   "version": "3.11.5"
  }
 },
 "nbformat": 4,
 "nbformat_minor": 2
}
